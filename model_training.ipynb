{
 "cells": [
  {
   "cell_type": "code",
   "execution_count": 1,
   "id": "aa22f64b-aeb4-4db0-b53f-b52da2157ad1",
   "metadata": {
    "id": "aa22f64b-aeb4-4db0-b53f-b52da2157ad1"
   },
   "outputs": [],
   "source": [
    "import pandas as pd\n",
    "from sklearn.feature_extraction import DictVectorizer\n",
    "from sklearn.linear_model import LinearRegression\n",
    "from sklearn.metrics import mean_squared_error\n",
    "import pickle"
   ]
  },
  {
   "cell_type": "code",
   "execution_count": 2,
   "id": "14d9fc69-d423-4b0c-8618-fd963233f67e",
   "metadata": {
    "id": "14d9fc69-d423-4b0c-8618-fd963233f67e",
    "outputId": "f20ec40e-448e-4505-8e4f-fe8cc64787d3"
   },
   "outputs": [
    {
     "data": {
      "text/html": [
       "<div>\n",
       "<style scoped>\n",
       "    .dataframe tbody tr th:only-of-type {\n",
       "        vertical-align: middle;\n",
       "    }\n",
       "\n",
       "    .dataframe tbody tr th {\n",
       "        vertical-align: top;\n",
       "    }\n",
       "\n",
       "    .dataframe thead th {\n",
       "        text-align: right;\n",
       "    }\n",
       "</style>\n",
       "<table border=\"1\" class=\"dataframe\">\n",
       "  <thead>\n",
       "    <tr style=\"text-align: right;\">\n",
       "      <th></th>\n",
       "      <th>VendorID</th>\n",
       "      <th>tpep_pickup_datetime</th>\n",
       "      <th>tpep_dropoff_datetime</th>\n",
       "      <th>passenger_count</th>\n",
       "      <th>trip_distance</th>\n",
       "      <th>RatecodeID</th>\n",
       "      <th>store_and_fwd_flag</th>\n",
       "      <th>PULocationID</th>\n",
       "      <th>DOLocationID</th>\n",
       "      <th>payment_type</th>\n",
       "      <th>fare_amount</th>\n",
       "      <th>extra</th>\n",
       "      <th>mta_tax</th>\n",
       "      <th>tip_amount</th>\n",
       "      <th>tolls_amount</th>\n",
       "      <th>improvement_surcharge</th>\n",
       "      <th>total_amount</th>\n",
       "      <th>congestion_surcharge</th>\n",
       "      <th>airport_fee</th>\n",
       "    </tr>\n",
       "  </thead>\n",
       "  <tbody>\n",
       "    <tr>\n",
       "      <th>0</th>\n",
       "      <td>2</td>\n",
       "      <td>2023-01-01 00:32:10</td>\n",
       "      <td>2023-01-01 00:40:36</td>\n",
       "      <td>1.0</td>\n",
       "      <td>0.97</td>\n",
       "      <td>1.0</td>\n",
       "      <td>N</td>\n",
       "      <td>161</td>\n",
       "      <td>141</td>\n",
       "      <td>2</td>\n",
       "      <td>9.3</td>\n",
       "      <td>1.00</td>\n",
       "      <td>0.5</td>\n",
       "      <td>0.00</td>\n",
       "      <td>0.0</td>\n",
       "      <td>1.0</td>\n",
       "      <td>14.30</td>\n",
       "      <td>2.5</td>\n",
       "      <td>0.00</td>\n",
       "    </tr>\n",
       "    <tr>\n",
       "      <th>1</th>\n",
       "      <td>2</td>\n",
       "      <td>2023-01-01 00:55:08</td>\n",
       "      <td>2023-01-01 01:01:27</td>\n",
       "      <td>1.0</td>\n",
       "      <td>1.10</td>\n",
       "      <td>1.0</td>\n",
       "      <td>N</td>\n",
       "      <td>43</td>\n",
       "      <td>237</td>\n",
       "      <td>1</td>\n",
       "      <td>7.9</td>\n",
       "      <td>1.00</td>\n",
       "      <td>0.5</td>\n",
       "      <td>4.00</td>\n",
       "      <td>0.0</td>\n",
       "      <td>1.0</td>\n",
       "      <td>16.90</td>\n",
       "      <td>2.5</td>\n",
       "      <td>0.00</td>\n",
       "    </tr>\n",
       "    <tr>\n",
       "      <th>2</th>\n",
       "      <td>2</td>\n",
       "      <td>2023-01-01 00:25:04</td>\n",
       "      <td>2023-01-01 00:37:49</td>\n",
       "      <td>1.0</td>\n",
       "      <td>2.51</td>\n",
       "      <td>1.0</td>\n",
       "      <td>N</td>\n",
       "      <td>48</td>\n",
       "      <td>238</td>\n",
       "      <td>1</td>\n",
       "      <td>14.9</td>\n",
       "      <td>1.00</td>\n",
       "      <td>0.5</td>\n",
       "      <td>15.00</td>\n",
       "      <td>0.0</td>\n",
       "      <td>1.0</td>\n",
       "      <td>34.90</td>\n",
       "      <td>2.5</td>\n",
       "      <td>0.00</td>\n",
       "    </tr>\n",
       "    <tr>\n",
       "      <th>3</th>\n",
       "      <td>1</td>\n",
       "      <td>2023-01-01 00:03:48</td>\n",
       "      <td>2023-01-01 00:13:25</td>\n",
       "      <td>0.0</td>\n",
       "      <td>1.90</td>\n",
       "      <td>1.0</td>\n",
       "      <td>N</td>\n",
       "      <td>138</td>\n",
       "      <td>7</td>\n",
       "      <td>1</td>\n",
       "      <td>12.1</td>\n",
       "      <td>7.25</td>\n",
       "      <td>0.5</td>\n",
       "      <td>0.00</td>\n",
       "      <td>0.0</td>\n",
       "      <td>1.0</td>\n",
       "      <td>20.85</td>\n",
       "      <td>0.0</td>\n",
       "      <td>1.25</td>\n",
       "    </tr>\n",
       "    <tr>\n",
       "      <th>4</th>\n",
       "      <td>2</td>\n",
       "      <td>2023-01-01 00:10:29</td>\n",
       "      <td>2023-01-01 00:21:19</td>\n",
       "      <td>1.0</td>\n",
       "      <td>1.43</td>\n",
       "      <td>1.0</td>\n",
       "      <td>N</td>\n",
       "      <td>107</td>\n",
       "      <td>79</td>\n",
       "      <td>1</td>\n",
       "      <td>11.4</td>\n",
       "      <td>1.00</td>\n",
       "      <td>0.5</td>\n",
       "      <td>3.28</td>\n",
       "      <td>0.0</td>\n",
       "      <td>1.0</td>\n",
       "      <td>19.68</td>\n",
       "      <td>2.5</td>\n",
       "      <td>0.00</td>\n",
       "    </tr>\n",
       "  </tbody>\n",
       "</table>\n",
       "</div>"
      ],
      "text/plain": [
       "   VendorID tpep_pickup_datetime tpep_dropoff_datetime  passenger_count  \\\n",
       "0         2  2023-01-01 00:32:10   2023-01-01 00:40:36              1.0   \n",
       "1         2  2023-01-01 00:55:08   2023-01-01 01:01:27              1.0   \n",
       "2         2  2023-01-01 00:25:04   2023-01-01 00:37:49              1.0   \n",
       "3         1  2023-01-01 00:03:48   2023-01-01 00:13:25              0.0   \n",
       "4         2  2023-01-01 00:10:29   2023-01-01 00:21:19              1.0   \n",
       "\n",
       "   trip_distance  RatecodeID store_and_fwd_flag  PULocationID  DOLocationID  \\\n",
       "0           0.97         1.0                  N           161           141   \n",
       "1           1.10         1.0                  N            43           237   \n",
       "2           2.51         1.0                  N            48           238   \n",
       "3           1.90         1.0                  N           138             7   \n",
       "4           1.43         1.0                  N           107            79   \n",
       "\n",
       "   payment_type  fare_amount  extra  mta_tax  tip_amount  tolls_amount  \\\n",
       "0             2          9.3   1.00      0.5        0.00           0.0   \n",
       "1             1          7.9   1.00      0.5        4.00           0.0   \n",
       "2             1         14.9   1.00      0.5       15.00           0.0   \n",
       "3             1         12.1   7.25      0.5        0.00           0.0   \n",
       "4             1         11.4   1.00      0.5        3.28           0.0   \n",
       "\n",
       "   improvement_surcharge  total_amount  congestion_surcharge  airport_fee  \n",
       "0                    1.0         14.30                   2.5         0.00  \n",
       "1                    1.0         16.90                   2.5         0.00  \n",
       "2                    1.0         34.90                   2.5         0.00  \n",
       "3                    1.0         20.85                   0.0         1.25  \n",
       "4                    1.0         19.68                   2.5         0.00  "
      ]
     },
     "execution_count": 2,
     "metadata": {},
     "output_type": "execute_result"
    }
   ],
   "source": [
    "df= pd.read_parquet(\"./data/yellow_tripdata_2023-01.parquet\")\n",
    "df.head()"
   ]
  },
  {
   "cell_type": "code",
   "execution_count": 3,
   "id": "15aa4ea6-ee0d-4484-b8ca-21af09c8ba2a",
   "metadata": {
    "id": "15aa4ea6-ee0d-4484-b8ca-21af09c8ba2a",
    "outputId": "5839b569-bef6-4b24-d99e-60dded8ee7e3"
   },
   "outputs": [
    {
     "name": "stdout",
     "output_type": "stream",
     "text": [
      "<class 'pandas.core.frame.DataFrame'>\n",
      "RangeIndex: 3066766 entries, 0 to 3066765\n",
      "Data columns (total 19 columns):\n",
      " #   Column                 Dtype         \n",
      "---  ------                 -----         \n",
      " 0   VendorID               int64         \n",
      " 1   tpep_pickup_datetime   datetime64[ns]\n",
      " 2   tpep_dropoff_datetime  datetime64[ns]\n",
      " 3   passenger_count        float64       \n",
      " 4   trip_distance          float64       \n",
      " 5   RatecodeID             float64       \n",
      " 6   store_and_fwd_flag     object        \n",
      " 7   PULocationID           int64         \n",
      " 8   DOLocationID           int64         \n",
      " 9   payment_type           int64         \n",
      " 10  fare_amount            float64       \n",
      " 11  extra                  float64       \n",
      " 12  mta_tax                float64       \n",
      " 13  tip_amount             float64       \n",
      " 14  tolls_amount           float64       \n",
      " 15  improvement_surcharge  float64       \n",
      " 16  total_amount           float64       \n",
      " 17  congestion_surcharge   float64       \n",
      " 18  airport_fee            float64       \n",
      "dtypes: datetime64[ns](2), float64(12), int64(4), object(1)\n",
      "memory usage: 444.6+ MB\n"
     ]
    }
   ],
   "source": [
    "df.info()"
   ]
  },
  {
   "cell_type": "markdown",
   "id": "47bb5c4e-c9b5-40f0-aae9-d00fdc76038c",
   "metadata": {
    "id": "47bb5c4e-c9b5-40f0-aae9-d00fdc76038c"
   },
   "source": [
    "There are 19 columns"
   ]
  },
  {
   "cell_type": "code",
   "execution_count": 4,
   "id": "edab951b-44a7-40d2-a1be-d9c3852d52ab",
   "metadata": {
    "id": "edab951b-44a7-40d2-a1be-d9c3852d52ab"
   },
   "outputs": [],
   "source": [
    "# deriving trip duration in minutes\n",
    "df['duration']= df['tpep_dropoff_datetime']-df['tpep_pickup_datetime']\n",
    "df['duration']=df['duration'].apply(lambda x: x.total_seconds()/60)"
   ]
  },
  {
   "cell_type": "code",
   "execution_count": 5,
   "id": "6682226a-e597-4d3a-b38b-200fd43767bd",
   "metadata": {
    "id": "6682226a-e597-4d3a-b38b-200fd43767bd",
    "outputId": "87d64c4f-71f3-4d7d-86df-395afe325120"
   },
   "outputs": [
    {
     "data": {
      "text/plain": [
       "42.594351241920904"
      ]
     },
     "execution_count": 5,
     "metadata": {},
     "output_type": "execute_result"
    }
   ],
   "source": [
    "# standard deviation of trip duration\n",
    "df['duration'].std()"
   ]
  },
  {
   "cell_type": "code",
   "execution_count": 6,
   "id": "0205095f-152b-4c5f-a483-9edd351c7836",
   "metadata": {
    "id": "0205095f-152b-4c5f-a483-9edd351c7836",
    "outputId": "ddc5ee30-fc93-4a10-a923-c0673138791f"
   },
   "outputs": [
    {
     "data": {
      "text/plain": [
       "0.9812202822125979"
      ]
     },
     "execution_count": 6,
     "metadata": {},
     "output_type": "execute_result"
    }
   ],
   "source": [
    "#Filter dataset to contain only trips with duration between 1 and 60 minutes\n",
    "new_df=df[(df['duration']>= 1) & (df['duration']<= 60)]\n",
    "\n",
    "# fraction of trips within selected duration\n",
    "len(new_df)/len(df)"
   ]
  },
  {
   "cell_type": "code",
   "execution_count": 7,
   "id": "9bc43fb6-cb8b-4dab-b255-2be9f109fb84",
   "metadata": {
    "id": "9bc43fb6-cb8b-4dab-b255-2be9f109fb84",
    "scrolled": true
   },
   "outputs": [],
   "source": [
    "variables=new_df[['PULocationID' ,'DOLocationID']].astype(str)\n",
    "train_dict=variables.to_dict(orient='records')"
   ]
  },
  {
   "cell_type": "code",
   "execution_count": 8,
   "id": "ae01453a-27f0-42dc-a769-0c3916dcca17",
   "metadata": {
    "id": "ae01453a-27f0-42dc-a769-0c3916dcca17"
   },
   "outputs": [],
   "source": [
    "dv=DictVectorizer()\n",
    "x_train=dv.fit_transform(train_dict)\n",
    "y_train=new_df['duration']"
   ]
  },
  {
   "cell_type": "code",
   "execution_count": 9,
   "id": "77633d09-61cb-4b56-a812-fa6d9f1e2381",
   "metadata": {
    "id": "77633d09-61cb-4b56-a812-fa6d9f1e2381",
    "outputId": "0ddb3857-4883-4419-bb9f-6eb5f2869afe"
   },
   "outputs": [
    {
     "data": {
      "text/plain": [
       "(3009173, 515)"
      ]
     },
     "execution_count": 9,
     "metadata": {},
     "output_type": "execute_result"
    }
   ],
   "source": [
    "x_train.shape"
   ]
  },
  {
   "cell_type": "code",
   "execution_count": 10,
   "id": "2e2b565a-0652-4f21-8a97-53aaabbc7506",
   "metadata": {
    "id": "2e2b565a-0652-4f21-8a97-53aaabbc7506"
   },
   "outputs": [],
   "source": [
    "model= LinearRegression()\n",
    "model.fit(x_train, y_train)\n",
    "y_pred=model.predict(x_train)"
   ]
  },
  {
   "cell_type": "code",
   "execution_count": null,
   "id": "1c38abca",
   "metadata": {},
   "outputs": [],
   "source": [
    "with open('model/lin_reg.bin', wb) as f_out:\n",
    "    pickle.dump((model,dv), f_out)"
   ]
  },
  {
   "cell_type": "code",
   "execution_count": 12,
   "id": "fb8376fc-8e40-4b90-8f43-85bb03ea69a5",
   "metadata": {
    "id": "fb8376fc-8e40-4b90-8f43-85bb03ea69a5",
    "outputId": "9d7801df-c60f-40f7-f68c-5e215d2c09eb"
   },
   "outputs": [
    {
     "data": {
      "text/plain": [
       "7.649261959768939"
      ]
     },
     "execution_count": 12,
     "metadata": {},
     "output_type": "execute_result"
    }
   ],
   "source": [
    "import math\n",
    "#root mean squared error= root of mean squared error\n",
    "rmse=math.sqrt(mean_squared_error(y_train, y_pred))\n",
    "rmse"
   ]
  },
  {
   "cell_type": "code",
   "execution_count": 11,
   "id": "20537669",
   "metadata": {
    "id": "20537669"
   },
   "outputs": [],
   "source": [
    "df2= pd.read_parquet(\"./data/yellow_tripdata_2023-02.parquet\")"
   ]
  },
  {
   "cell_type": "code",
   "execution_count": 13,
   "id": "a410fd48",
   "metadata": {
    "id": "a410fd48"
   },
   "outputs": [],
   "source": [
    "# deriving trip duration in minutes\n",
    "df2['duration']= df2['tpep_dropoff_datetime']-df2['tpep_pickup_datetime']\n",
    "df2['duration']=df2['duration'].apply(lambda x: x.total_seconds()/60)"
   ]
  },
  {
   "cell_type": "code",
   "execution_count": 14,
   "id": "03bc8be9",
   "metadata": {
    "id": "03bc8be9"
   },
   "outputs": [],
   "source": [
    "#Filter dataset to contain only trips with duration between 1 and 60 minutes\n",
    "new_df2=df2[(df2['duration']>= 1) & (df2['duration']<= 60)]\n"
   ]
  },
  {
   "cell_type": "code",
   "execution_count": 15,
   "id": "8321984e",
   "metadata": {
    "id": "8321984e"
   },
   "outputs": [],
   "source": [
    "variables=new_df2[['PULocationID' ,'DOLocationID']].astype(str)\n",
    "test_dict=variables.to_dict(orient='records')"
   ]
  },
  {
   "cell_type": "code",
   "execution_count": 16,
   "id": "1ed98cab",
   "metadata": {
    "id": "1ed98cab"
   },
   "outputs": [
    {
     "data": {
      "text/plain": [
       "(2855951, 515)"
      ]
     },
     "execution_count": 16,
     "metadata": {},
     "output_type": "execute_result"
    }
   ],
   "source": [
    "\n",
    "x_test=dv.transform(test_dict)\n",
    "x_test.shape"
   ]
  },
  {
   "cell_type": "code",
   "execution_count": 17,
   "id": "e76291f2",
   "metadata": {
    "id": "e76291f2",
    "outputId": "10b3556a-ccc4-460d-dd7b-4cc47339a39b"
   },
   "outputs": [
    {
     "data": {
      "text/plain": [
       "7.811816826653192"
      ]
     },
     "execution_count": 17,
     "metadata": {},
     "output_type": "execute_result"
    }
   ],
   "source": [
    "y_test=new_df2['duration']\n",
    "y_pred=model.predict(x_test)\n",
    "\n",
    "#root mean square on february data\n",
    "rmse=math.sqrt(mean_squared_error(y_test, y_pred))\n",
    "rmse"
   ]
  },
  {
   "cell_type": "code",
   "execution_count": null,
   "id": "5e99c2d7",
   "metadata": {
    "id": "5e99c2d7"
   },
   "outputs": [],
   "source": []
  }
 ],
 "metadata": {
  "colab": {
   "provenance": []
  },
  "kernelspec": {
   "display_name": "Python 3 (ipykernel)",
   "language": "python",
   "name": "python3"
  },
  "language_info": {
   "codemirror_mode": {
    "name": "ipython",
    "version": 3
   },
   "file_extension": ".py",
   "mimetype": "text/x-python",
   "name": "python",
   "nbconvert_exporter": "python",
   "pygments_lexer": "ipython3",
   "version": "3.11.9"
  }
 },
 "nbformat": 4,
 "nbformat_minor": 5
}
