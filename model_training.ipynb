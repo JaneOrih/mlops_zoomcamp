{
 "cells": [
  {
   "cell_type": "code",
   "execution_count": 1,
   "id": "aa22f64b-aeb4-4db0-b53f-b52da2157ad1",
   "metadata": {
    "id": "aa22f64b-aeb4-4db0-b53f-b52da2157ad1"
   },
   "outputs": [
    {
     "ename": "AttributeError",
     "evalue": "module 'mlflow' has no attribute 'set_tracking_url'",
     "output_type": "error",
     "traceback": [
      "\u001b[1;31m---------------------------------------------------------------------------\u001b[0m",
      "\u001b[1;31mAttributeError\u001b[0m                            Traceback (most recent call last)",
      "Cell \u001b[1;32mIn[1], line 11\u001b[0m\n\u001b[0;32m      8\u001b[0m \u001b[38;5;28;01mfrom\u001b[39;00m \u001b[38;5;21;01mhyperopt\u001b[39;00m \u001b[38;5;28;01mimport\u001b[39;00m fmin, tpe, hp, STATUS_OK, Trials\n\u001b[0;32m      9\u001b[0m \u001b[38;5;28;01mfrom\u001b[39;00m \u001b[38;5;21;01mhyperopt\u001b[39;00m\u001b[38;5;21;01m.\u001b[39;00m\u001b[38;5;21;01mpyll\u001b[39;00m \u001b[38;5;28;01mimport\u001b[39;00m scope\n\u001b[1;32m---> 11\u001b[0m \u001b[43mmlflow\u001b[49m\u001b[38;5;241;43m.\u001b[39;49m\u001b[43mset_tracking_url\u001b[49m(\u001b[38;5;124m\"\u001b[39m\u001b[38;5;124mhttp://127.0.0.1:5000\u001b[39m\u001b[38;5;124m\"\u001b[39m)\n\u001b[0;32m     12\u001b[0m mlflow\u001b[38;5;241m.\u001b[39mset_experimen(\u001b[38;5;124m\"\u001b[39m\u001b[38;5;124mgreen-taxi-duration\u001b[39m\u001b[38;5;124m\"\u001b[39m)\n",
      "\u001b[1;31mAttributeError\u001b[0m: module 'mlflow' has no attribute 'set_tracking_url'"
     ]
    }
   ],
   "source": [
    "import pandas as pd\n",
    "from sklearn.feature_extraction import DictVectorizer\n",
    "from sklearn.linear_model import LinearRegression\n",
    "from sklearn.metrics import mean_squared_error\n",
    "import pickle\n",
    "import mlflow\n",
    "import xgboost as xgb\n",
    "from hyperopt import fmin, tpe, hp, STATUS_OK, Trials\n",
    "from hyperopt.pyll import scope\n",
    "\n",
    "mlflow.set_tracking_url(\"http://127.0.0.1:5000\")\n",
    "mlflow.set_experimen(\"green-taxi-duration\")"
   ]
  },
  {
   "cell_type": "code",
   "execution_count": null,
   "id": "14d9fc69-d423-4b0c-8618-fd963233f67e",
   "metadata": {
    "id": "14d9fc69-d423-4b0c-8618-fd963233f67e",
    "outputId": "f20ec40e-448e-4505-8e4f-fe8cc64787d3"
   },
   "outputs": [
    {
     "ename": "",
     "evalue": "",
     "output_type": "error",
     "traceback": [
      "\u001b[1;31mFailed to start the Kernel. \n",
      "\u001b[1;31mUnable to start Kernel 'mlenv (Python 3.11.9)' due to a timeout waiting for the ports to get used. \n",
      "\u001b[1;31mView Jupyter <a href='command:jupyter.viewOutput'>log</a> for further details."
     ]
    }
   ],
   "source": [
    "df= pd.read_parquet(\"./data/yellow_tripdata_2023-01.parquet\")\n",
    "df.head()"
   ]
  },
  {
   "cell_type": "code",
   "execution_count": null,
   "id": "15aa4ea6-ee0d-4484-b8ca-21af09c8ba2a",
   "metadata": {
    "id": "15aa4ea6-ee0d-4484-b8ca-21af09c8ba2a",
    "outputId": "5839b569-bef6-4b24-d99e-60dded8ee7e3"
   },
   "outputs": [
    {
     "ename": "",
     "evalue": "",
     "output_type": "error",
     "traceback": [
      "\u001b[1;31mFailed to start the Kernel. \n",
      "\u001b[1;31mUnable to start Kernel 'mlenv (Python 3.11.9)' due to a timeout waiting for the ports to get used. \n",
      "\u001b[1;31mView Jupyter <a href='command:jupyter.viewOutput'>log</a> for further details."
     ]
    }
   ],
   "source": [
    "df.info()"
   ]
  },
  {
   "cell_type": "markdown",
   "id": "47bb5c4e-c9b5-40f0-aae9-d00fdc76038c",
   "metadata": {
    "id": "47bb5c4e-c9b5-40f0-aae9-d00fdc76038c"
   },
   "source": [
    "There are 19 columns"
   ]
  },
  {
   "cell_type": "code",
   "execution_count": null,
   "id": "edab951b-44a7-40d2-a1be-d9c3852d52ab",
   "metadata": {
    "id": "edab951b-44a7-40d2-a1be-d9c3852d52ab"
   },
   "outputs": [
    {
     "ename": "",
     "evalue": "",
     "output_type": "error",
     "traceback": [
      "\u001b[1;31mFailed to start the Kernel. \n",
      "\u001b[1;31mUnable to start Kernel 'mlenv (Python 3.11.9)' due to a timeout waiting for the ports to get used. \n",
      "\u001b[1;31mView Jupyter <a href='command:jupyter.viewOutput'>log</a> for further details."
     ]
    }
   ],
   "source": [
    "# deriving trip duration in minutes\n",
    "df['duration']= df['tpep_dropoff_datetime']-df['tpep_pickup_datetime']\n",
    "df['duration']=df['duration'].apply(lambda x: x.total_seconds()/60)"
   ]
  },
  {
   "cell_type": "code",
   "execution_count": null,
   "id": "6682226a-e597-4d3a-b38b-200fd43767bd",
   "metadata": {
    "id": "6682226a-e597-4d3a-b38b-200fd43767bd",
    "outputId": "87d64c4f-71f3-4d7d-86df-395afe325120"
   },
   "outputs": [
    {
     "ename": "",
     "evalue": "",
     "output_type": "error",
     "traceback": [
      "\u001b[1;31mFailed to start the Kernel. \n",
      "\u001b[1;31mUnable to start Kernel 'mlenv (Python 3.11.9)' due to a timeout waiting for the ports to get used. \n",
      "\u001b[1;31mView Jupyter <a href='command:jupyter.viewOutput'>log</a> for further details."
     ]
    }
   ],
   "source": [
    "# standard deviation of trip duration\n",
    "df['duration'].std()"
   ]
  },
  {
   "cell_type": "code",
   "execution_count": null,
   "id": "0205095f-152b-4c5f-a483-9edd351c7836",
   "metadata": {
    "id": "0205095f-152b-4c5f-a483-9edd351c7836",
    "outputId": "ddc5ee30-fc93-4a10-a923-c0673138791f"
   },
   "outputs": [
    {
     "ename": "",
     "evalue": "",
     "output_type": "error",
     "traceback": [
      "\u001b[1;31mFailed to start the Kernel. \n",
      "\u001b[1;31mUnable to start Kernel 'mlenv (Python 3.11.9)' due to a timeout waiting for the ports to get used. \n",
      "\u001b[1;31mView Jupyter <a href='command:jupyter.viewOutput'>log</a> for further details."
     ]
    }
   ],
   "source": [
    "#Filter dataset to contain only trips with duration between 1 and 60 minutes\n",
    "new_df=df[(df['duration']>= 1) & (df['duration']<= 60)]\n",
    "\n",
    "# fraction of trips within selected duration\n",
    "len(new_df)/len(df)"
   ]
  },
  {
   "cell_type": "code",
   "execution_count": null,
   "id": "9bc43fb6-cb8b-4dab-b255-2be9f109fb84",
   "metadata": {
    "id": "9bc43fb6-cb8b-4dab-b255-2be9f109fb84",
    "scrolled": true
   },
   "outputs": [
    {
     "ename": "",
     "evalue": "",
     "output_type": "error",
     "traceback": [
      "\u001b[1;31mFailed to start the Kernel. \n",
      "\u001b[1;31mUnable to start Kernel 'mlenv (Python 3.11.9)' due to a timeout waiting for the ports to get used. \n",
      "\u001b[1;31mView Jupyter <a href='command:jupyter.viewOutput'>log</a> for further details."
     ]
    }
   ],
   "source": [
    "variables=new_df[['PULocationID' ,'DOLocationID']].astype(str)\n",
    "train_dict=variables.to_dict(orient='records')"
   ]
  },
  {
   "cell_type": "code",
   "execution_count": null,
   "id": "ae01453a-27f0-42dc-a769-0c3916dcca17",
   "metadata": {
    "id": "ae01453a-27f0-42dc-a769-0c3916dcca17"
   },
   "outputs": [
    {
     "ename": "",
     "evalue": "",
     "output_type": "error",
     "traceback": [
      "\u001b[1;31mFailed to start the Kernel. \n",
      "\u001b[1;31mUnable to start Kernel 'mlenv (Python 3.11.9)' due to a timeout waiting for the ports to get used. \n",
      "\u001b[1;31mView Jupyter <a href='command:jupyter.viewOutput'>log</a> for further details."
     ]
    }
   ],
   "source": [
    "dv=DictVectorizer()\n",
    "x_train=dv.fit_transform(train_dict)\n",
    "y_train=new_df['duration']"
   ]
  },
  {
   "cell_type": "code",
   "execution_count": null,
   "id": "77633d09-61cb-4b56-a812-fa6d9f1e2381",
   "metadata": {
    "id": "77633d09-61cb-4b56-a812-fa6d9f1e2381",
    "outputId": "0ddb3857-4883-4419-bb9f-6eb5f2869afe"
   },
   "outputs": [
    {
     "ename": "",
     "evalue": "",
     "output_type": "error",
     "traceback": [
      "\u001b[1;31mFailed to start the Kernel. \n",
      "\u001b[1;31mUnable to start Kernel 'mlenv (Python 3.11.9)' due to a timeout waiting for the ports to get used. \n",
      "\u001b[1;31mView Jupyter <a href='command:jupyter.viewOutput'>log</a> for further details."
     ]
    }
   ],
   "source": [
    "x_train.shape"
   ]
  },
  {
   "cell_type": "code",
   "execution_count": null,
   "id": "2e2b565a-0652-4f21-8a97-53aaabbc7506",
   "metadata": {
    "id": "2e2b565a-0652-4f21-8a97-53aaabbc7506"
   },
   "outputs": [
    {
     "ename": "",
     "evalue": "",
     "output_type": "error",
     "traceback": [
      "\u001b[1;31mFailed to start the Kernel. \n",
      "\u001b[1;31mUnable to start Kernel 'mlenv (Python 3.11.9)' due to a timeout waiting for the ports to get used. \n",
      "\u001b[1;31mView Jupyter <a href='command:jupyter.viewOutput'>log</a> for further details."
     ]
    }
   ],
   "source": [
    "mlflow.set_tag(\"developer\",\"Jane\")\n",
    "mlflow.log_param(\"train_data_path\", \"./data/green_tripdata_2023-01.csv\")\n",
    "mlflow.log_param(\"validation_data_path\", \"./data/green_tripdata_2023-01.csv\")\n",
    "\n",
    "\n",
    "model= LinearRegression()\n",
    "model.fit(x_train, y_train)\n",
    "y_pred=model.predict(x_train)\n",
    "\n"
   ]
  },
  {
   "cell_type": "code",
   "execution_count": null,
   "id": "1c38abca",
   "metadata": {},
   "outputs": [
    {
     "ename": "",
     "evalue": "",
     "output_type": "error",
     "traceback": [
      "\u001b[1;31mFailed to start the Kernel. \n",
      "\u001b[1;31mUnable to start Kernel 'mlenv (Python 3.11.9)' due to a timeout waiting for the ports to get used. \n",
      "\u001b[1;31mView Jupyter <a href='command:jupyter.viewOutput'>log</a> for further details."
     ]
    }
   ],
   "source": [
    "with open('model/lin_reg.bin', 'wb') as f_out:\n",
    "    pickle.dump((model,dv), f_out)"
   ]
  },
  {
   "cell_type": "code",
   "execution_count": null,
   "id": "fb8376fc-8e40-4b90-8f43-85bb03ea69a5",
   "metadata": {
    "id": "fb8376fc-8e40-4b90-8f43-85bb03ea69a5",
    "outputId": "9d7801df-c60f-40f7-f68c-5e215d2c09eb"
   },
   "outputs": [
    {
     "ename": "",
     "evalue": "",
     "output_type": "error",
     "traceback": [
      "\u001b[1;31mFailed to start the Kernel. \n",
      "\u001b[1;31mUnable to start Kernel 'mlenv (Python 3.11.9)' due to a timeout waiting for the ports to get used. \n",
      "\u001b[1;31mView Jupyter <a href='command:jupyter.viewOutput'>log</a> for further details."
     ]
    }
   ],
   "source": [
    "import math\n",
    "#root mean squared error= root of mean squared error\n",
    "rmse=math.sqrt(mean_squared_error(y_train, y_pred))\n",
    "rmse"
   ]
  },
  {
   "cell_type": "code",
   "execution_count": null,
   "id": "20537669",
   "metadata": {
    "id": "20537669"
   },
   "outputs": [
    {
     "ename": "",
     "evalue": "",
     "output_type": "error",
     "traceback": [
      "\u001b[1;31mFailed to start the Kernel. \n",
      "\u001b[1;31mUnable to start Kernel 'mlenv (Python 3.11.9)' due to a timeout waiting for the ports to get used. \n",
      "\u001b[1;31mView Jupyter <a href='command:jupyter.viewOutput'>log</a> for further details."
     ]
    }
   ],
   "source": [
    "df2= pd.read_parquet(\"./data/yellow_tripdata_2023-02.parquet\")"
   ]
  },
  {
   "cell_type": "code",
   "execution_count": null,
   "id": "a410fd48",
   "metadata": {
    "id": "a410fd48"
   },
   "outputs": [
    {
     "ename": "",
     "evalue": "",
     "output_type": "error",
     "traceback": [
      "\u001b[1;31mFailed to start the Kernel. \n",
      "\u001b[1;31mUnable to start Kernel 'mlenv (Python 3.11.9)' due to a timeout waiting for the ports to get used. \n",
      "\u001b[1;31mView Jupyter <a href='command:jupyter.viewOutput'>log</a> for further details."
     ]
    }
   ],
   "source": [
    "# deriving trip duration in minutes\n",
    "df2['duration']= df2['tpep_dropoff_datetime']-df2['tpep_pickup_datetime']\n",
    "df2['duration']=df2['duration'].apply(lambda x: x.total_seconds()/60)"
   ]
  },
  {
   "cell_type": "code",
   "execution_count": null,
   "id": "03bc8be9",
   "metadata": {
    "id": "03bc8be9"
   },
   "outputs": [
    {
     "ename": "",
     "evalue": "",
     "output_type": "error",
     "traceback": [
      "\u001b[1;31mFailed to start the Kernel. \n",
      "\u001b[1;31mUnable to start Kernel 'mlenv (Python 3.11.9)' due to a timeout waiting for the ports to get used. \n",
      "\u001b[1;31mView Jupyter <a href='command:jupyter.viewOutput'>log</a> for further details."
     ]
    }
   ],
   "source": [
    "#Filter dataset to contain only trips with duration between 1 and 60 minutes\n",
    "new_df2=df2[(df2['duration']>= 1) & (df2['duration']<= 60)]\n"
   ]
  },
  {
   "cell_type": "code",
   "execution_count": null,
   "id": "8321984e",
   "metadata": {
    "id": "8321984e"
   },
   "outputs": [
    {
     "ename": "",
     "evalue": "",
     "output_type": "error",
     "traceback": [
      "\u001b[1;31mFailed to start the Kernel. \n",
      "\u001b[1;31mUnable to start Kernel 'mlenv (Python 3.11.9)' due to a timeout waiting for the ports to get used. \n",
      "\u001b[1;31mView Jupyter <a href='command:jupyter.viewOutput'>log</a> for further details."
     ]
    }
   ],
   "source": [
    "variables=new_df2[['PULocationID' ,'DOLocationID']].astype(str)\n",
    "test_dict=variables.to_dict(orient='records')"
   ]
  },
  {
   "cell_type": "code",
   "execution_count": null,
   "id": "1ed98cab",
   "metadata": {
    "id": "1ed98cab"
   },
   "outputs": [
    {
     "ename": "",
     "evalue": "",
     "output_type": "error",
     "traceback": [
      "\u001b[1;31mFailed to start the Kernel. \n",
      "\u001b[1;31mUnable to start Kernel 'mlenv (Python 3.11.9)' due to a timeout waiting for the ports to get used. \n",
      "\u001b[1;31mView Jupyter <a href='command:jupyter.viewOutput'>log</a> for further details."
     ]
    }
   ],
   "source": [
    "\n",
    "x_test=dv.transform(test_dict)\n",
    "x_test.shape"
   ]
  },
  {
   "cell_type": "code",
   "execution_count": null,
   "id": "e76291f2",
   "metadata": {
    "id": "e76291f2",
    "outputId": "10b3556a-ccc4-460d-dd7b-4cc47339a39b"
   },
   "outputs": [
    {
     "ename": "",
     "evalue": "",
     "output_type": "error",
     "traceback": [
      "\u001b[1;31mFailed to start the Kernel. \n",
      "\u001b[1;31mUnable to start Kernel 'mlenv (Python 3.11.9)' due to a timeout waiting for the ports to get used. \n",
      "\u001b[1;31mView Jupyter <a href='command:jupyter.viewOutput'>log</a> for further details."
     ]
    }
   ],
   "source": [
    "y_test=new_df2['duration']\n",
    "y_pred=model.predict(x_test)\n",
    "\n",
    "#root mean square on february data\n",
    "rmse=math.sqrt(mean_squared_error(y_test, y_pred))\n",
    "mlflow.log_metric(\"rmse\", rmse)\n",
    "mlflow.log_artifact(local_path=\"model/lin_reg.bin\", artifact_path=\"models_pickle/\")\n",
    "rmse"
   ]
  },
  {
   "cell_type": "code",
   "execution_count": null,
   "id": "f09e1b5c",
   "metadata": {},
   "outputs": [
    {
     "ename": "",
     "evalue": "",
     "output_type": "error",
     "traceback": [
      "\u001b[1;31mFailed to start the Kernel. \n",
      "\u001b[1;31mUnable to start Kernel 'mlenv (Python 3.11.9)' due to a timeout waiting for the ports to get used. \n",
      "\u001b[1;31mView Jupyter <a href='command:jupyter.viewOutput'>log</a> for further details."
     ]
    }
   ],
   "source": [
    "search_space={\n",
    "    'max_depth':scope.int(hp.quniform('max_depth', 4, 100, 1)),\n",
    "    'learning_rate':hp.loguniform('learning_rate',-3, 0),\n",
    "    'min_child_weight':hp.loguniform('min_child_weight',-1, 3),\n",
    "    'objective':'reg:linear',\n",
    "    'reg_alpha':hp.loguniform('min_child_weight',-5, 1),\n",
    "    'reg_lambda':hp.loguniform('min_child_weight',-6, 1),\n",
    "    'seed':42\n",
    "}\n",
    "\n",
    "best_result=fmin(objective,\n",
    "    space=search_space,\n",
    "    algo=tpe.suggest,\n",
    "    max_evals=50,\n",
    "    trials=Trials()\n",
    ")"
   ]
  },
  {
   "cell_type": "code",
   "execution_count": null,
   "id": "98cd3f87",
   "metadata": {},
   "outputs": [
    {
     "ename": "",
     "evalue": "",
     "output_type": "error",
     "traceback": [
      "\u001b[1;31mFailed to start the Kernel. \n",
      "\u001b[1;31mUnable to start Kernel 'mlenv (Python 3.11.9)' due to a timeout waiting for the ports to get used. \n",
      "\u001b[1;31mView Jupyter <a href='command:jupyter.viewOutput'>log</a> for further details."
     ]
    }
   ],
   "source": [
    "train= xgb.DMatrix(x_train, label=y_train)\n",
    "valid= xgb.DMatrix(x_test, label=y_test)\n",
    "\n",
    "with mlflow.start_run():\n",
    "    best_params={\n",
    "        'learning_rate':0.09585355,\n",
    "        'max_depth':30,\n",
    "        'min_child_weight':1.06059705,\n",
    "        'objective':'reg:linear',\n",
    "        'reg_alpha':0.018060244,\n",
    "        'reg_lambda':0.016587,\n",
    "        'seed':42\n",
    "    }\n",
    "    mlflow.log_params(best_params)\n",
    "\n",
    "    booster=xgb.train(\n",
    "        params=best_params,\n",
    "        dtrain=train,\n",
    "        num_boost_round=1000,\n",
    "        evals=[(valid, 'validation')],\n",
    "        early_stopping_round=50\n",
    "    )\n",
    "\n",
    "    y_pred=booster.predict(valid)\n",
    "    rmse=mean_squared_error(y_val, y_pred, squared=False)\n",
    "    mlflow.log_metric('rmse', rmse)\n",
    "\n",
    "    with open('models/preprocessor.b', 'wb') as f_out:\n",
    "        pickle.dump(dv, f_out)\n",
    "\n",
    "    mlflow.log_artifact('models/preprocessor.b', artifact_path='preprocessor')\n",
    "    mlflow.xgboost.log_model(booster, artifact_path=\"models_mlflow\")"
   ]
  }
 ],
 "metadata": {
  "colab": {
   "provenance": []
  },
  "kernelspec": {
   "display_name": "Python 3 (ipykernel)",
   "language": "python",
   "name": "python3"
  },
  "language_info": {
   "codemirror_mode": {
    "name": "ipython",
    "version": 3
   },
   "file_extension": ".py",
   "mimetype": "text/x-python",
   "name": "python",
   "nbconvert_exporter": "python",
   "pygments_lexer": "ipython3",
   "version": "3.11.9"
  }
 },
 "nbformat": 4,
 "nbformat_minor": 5
}
